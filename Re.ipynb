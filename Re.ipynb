{
 "cells": [
  {
   "cell_type": "code",
   "execution_count": null,
   "id": "30868bf9-ba3e-4b5a-8395-e6ba0c427731",
   "metadata": {},
   "outputs": [],
   "source": [
    "import json\n",
    "import re\n",
    "import networkx as nx\n",
    "import numpy as np\n",
    "import glob\n",
    "import matplotlib.pyplot as plt\n",
    "import collections\n",
    "import pandas as pd\n",
    "import pathlib"
   ]
  },
  {
   "cell_type": "code",
   "execution_count": 2,
   "id": "b8eeda4b-fced-4099-b5c9-87d2566fff9d",
   "metadata": {},
   "outputs": [],
   "source": [
    "filename = '' #DLしたJSONファイルを1つにまとめたフォルダを指定します\n",
    "cast_files = glob.glob(filename)"
   ]
  },
  {
   "cell_type": "markdown",
   "id": "52858818-d0cc-4704-a58f-ed129fb2640f",
   "metadata": {},
   "source": [
    "### 声優のネットワーク"
   ]
  },
  {
   "cell_type": "code",
   "execution_count": 3,
   "id": "c15f8928-fc39-4a76-8121-d96591cf0a09",
   "metadata": {},
   "outputs": [],
   "source": [
    "G = nx.Graph()\n",
    "\n",
    "#タイトルと声優さんの辞書\n",
    "dict_titlecast = {}\n",
    "#タイトルと公開日の辞書\n",
    "dict_title_rel = {}\n",
    "\n",
    "#声優リスト\n",
    "castli = []\n",
    "#タイトルリスト\n",
    "castti = []\n",
    "\n",
    "#もともとのファイル数の確認\n",
    "count_file = []\n",
    "\n",
    "for k in range(len(cast_files)):\n",
    "    fd = open(cast_files[k], mode='r',encoding=\"utf-8\")\n",
    "    data = json.load(fd)\n",
    "    fd.close()\n",
    "    \n",
    "    gyo = len(data[\"@graph\"])-1\n",
    "    for i in range(gyo): #キャストの名前と番組名を抽出\n",
    "        d = data[\"@graph\"][i].get('actor') #なんかエラー出るのでget使った\n",
    "        t = data[\"@graph\"][i].get('label')\n",
    "        release = data[\"@graph\"][i].get('startDate')\n",
    "        \n",
    "        #DLしたファイル数の確認\n",
    "        count_file.append(t)\n",
    "\n",
    "        D = str(d)\n",
    "        castlisti = re.findall(r'(?<=】)\\w+', D)\n",
    "    \n",
    "        #キャスト情報がない作品は飛ばす\n",
    "        if castlisti == []:\n",
    "            continue\n",
    "        else:\n",
    "            #タイトル：キャストの辞書を作成\n",
    "            dict_titlecast[t] = castlisti\n",
    "            #タイトル：リリース日の辞書を作成\n",
    "            dict_title_rel[t] = release\n",
    "        \n",
    "        for i in range(len(castlisti)):\n",
    "                #何にだれが出てるかDF用\n",
    "            castli.append(castlisti[i])\n",
    "            castti.append(t)\n",
    "            \n",
    "        for i in range(len(castlisti)):\n",
    "            for j in range(len(castlisti)):\n",
    "                if castlisti[i] == castlisti[j]: #同一人物の場合削除\n",
    "                    continue\n",
    "                else:\n",
    "                    G.add_edge(castlisti[i],castlisti[j])"
   ]
  }
 ],
 "metadata": {
  "kernelspec": {
   "display_name": "Python 3 (ipykernel)",
   "language": "python",
   "name": "python3"
  },
  "language_info": {
   "codemirror_mode": {
    "name": "ipython",
    "version": 3
   },
   "file_extension": ".py",
   "mimetype": "text/x-python",
   "name": "python",
   "nbconvert_exporter": "python",
   "pygments_lexer": "ipython3",
   "version": "3.8.11"
  }
 },
 "nbformat": 4,
 "nbformat_minor": 5
}
